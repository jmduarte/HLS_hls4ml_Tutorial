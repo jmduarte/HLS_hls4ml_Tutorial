{
 "cells": [
  {
   "cell_type": "markdown",
   "metadata": {},
   "source": [
    "### Load libaries"
   ]
  },
  {
   "cell_type": "code",
   "execution_count": 1,
   "metadata": {},
   "outputs": [],
   "source": [
    "import tensorflow as tf\n",
    "import hls4ml\n",
    "import numpy as np\n",
    "import matplotlib.pyplot as plt\n",
    "from sklearn.datasets import fetch_openml\n",
    "from sklearn.model_selection import train_test_split\n",
    "from sklearn.preprocessing import LabelEncoder, StandardScaler\n",
    "import json\n",
    "%matplotlib inline"
   ]
  },
  {
   "cell_type": "markdown",
   "metadata": {},
   "source": [
    "### Load the data and transform"
   ]
  },
  {
   "cell_type": "code",
   "execution_count": 2,
   "metadata": {},
   "outputs": [],
   "source": [
    "data = fetch_openml('hls4ml_lhc_jets_hlf')\n",
    "X, y = data['data'], data['target']\n",
    "le = LabelEncoder()\n",
    "y = le.fit_transform(y)\n",
    "y = tf.keras.utils.to_categorical(y, 5)\n",
    "X_train_val, X_test, y_train_val, y_test = train_test_split(X, y, test_size=0.2, random_state=42)\n",
    "scaler = StandardScaler()\n",
    "X_train_val = scaler.fit_transform(X_train_val)\n",
    "X_test = scaler.transform(X_test)"
   ]
  },
  {
   "cell_type": "markdown",
   "metadata": {},
   "source": [
    "### Optional: train the model"
   ]
  },
  {
   "cell_type": "code",
   "execution_count": null,
   "metadata": {},
   "outputs": [],
   "source": [
    "from tensorflow.keras.models import Model\n",
    "from tensorflow.keras.layers import Dense, Input\n",
    "from tensorflow.keras.regularizers import l1\n",
    "def three_layer_model(Inputs, nclasses, l1Reg=0, name='model_1'):\n",
    "    x = Dense(64, activation='relu', kernel_initializer='lecun_uniform', \n",
    "              name='fc1_relu', kernel_regularizer=l1(l1Reg))(Inputs)\n",
    "    x = Dense(32, activation='relu', kernel_initializer='lecun_uniform', \n",
    "              name='fc2_relu', kernel_regularizer=l1(l1Reg))(x)\n",
    "    x = Dense(32, activation='relu', kernel_initializer='lecun_uniform', \n",
    "              name='fc3_relu', kernel_regularizer=l1(l1Reg))(x)\n",
    "    predictions = Dense(nclasses, activation='softmax', kernel_initializer='lecun_uniform', \n",
    "                        name='output_softmax', kernel_regularizer=l1(l1Reg))(x)\n",
    "    model = Model(inputs=Inputs, outputs=predictions, name=name)\n",
    "    return model"
   ]
  },
  {
   "cell_type": "code",
   "execution_count": null,
   "metadata": {},
   "outputs": [],
   "source": [
    "keras_model = three_layer_model(Input(shape=X_train_val.shape[1:], name='input_1'), y_train_val.shape[1])\n",
    "keras_model.compile(optimizer='adam',loss='categorical_crossentropy', metrics=['acc'])\n",
    "keras_model.fit(X_train_val, y_train_val, \n",
    "                validation_split = 0.25, epochs = 20, \n",
    "                callbacks = [tf.keras.callbacks.EarlyStopping(monitor='val_loss', \n",
    "                                                              patience=5, \n",
    "                                                              restore_best_weights=True)])\n",
    "keras_model.save('keras_3layer.h5',save_format='h5', overwrite=True)"
   ]
  },
  {
   "cell_type": "markdown",
   "metadata": {},
   "source": [
    "### Load the model"
   ]
  },
  {
   "cell_type": "code",
   "execution_count": null,
   "metadata": {},
   "outputs": [],
   "source": [
    "keras_model = tf.keras.models.load_model('keras_3layer.h5')\n",
    "keras_model.summary()\n",
    "y_keras = keras_model.predict(X_test)"
   ]
  },
  {
   "cell_type": "markdown",
   "metadata": {},
   "source": [
    "### Create the hls4ml model and run C Simulation to get expected, quantized output"
   ]
  },
  {
   "cell_type": "code",
   "execution_count": null,
   "metadata": {},
   "outputs": [],
   "source": [
    "hls_cfg = hls4ml.utils.config_from_keras_model(keras_model, granularity='name')\n",
    "hls_model = hls4ml.converters.convert_from_keras_model(keras_model, output_dir='my-hls-test', hls_config=hls_cfg)\n",
    "hls_model.compile()\n",
    "y_hls4ml = hls_model.predict(X_test)"
   ]
  },
  {
   "cell_type": "markdown",
   "metadata": {},
   "source": [
    "### Check difference between hls4ml and keras"
   ]
  },
  {
   "cell_type": "code",
   "execution_count": null,
   "metadata": {},
   "outputs": [],
   "source": [
    "h, b = np.histogram((y_hls4ml - y_keras).flatten(), bins=np.linspace(-0.1,0.1,100))\n",
    "plt.bar(b[:-1], h, width=b[1]-b[0], color='b', alpha=0.5, label='diff')\n",
    "plt.legend()\n",
    "plt.xlabel('y_hls4ml - y_keras')\n",
    "plt.savefig('residual.png')"
   ]
  },
  {
   "cell_type": "markdown",
   "metadata": {},
   "source": [
    "### Make ROC curves"
   ]
  },
  {
   "cell_type": "code",
   "execution_count": null,
   "metadata": {},
   "outputs": [],
   "source": [
    "from sklearn.metrics import roc_curve\n",
    "def roc(y_true, y, linestyle):\n",
    "    for i in range(y_true.shape[1]):\n",
    "        fpr, tpr, _ = roc_curve(y_true[:,i], y[:,i])\n",
    "        plt.plot(tpr, fpr, linestyle=linestyle)\n",
    "        \n",
    "roc(y_test, y_keras, '-')\n",
    "plt.gca().set_prop_cycle(None)\n",
    "roc(y_test, y_hls4ml, '--')\n",
    "plt.semilogy()\n",
    "plt.xlabel(\"Signal Efficiency\")\n",
    "plt.ylabel(\"Background Efficiency\")\n",
    "plt.ylim(0.001,1)\n",
    "plt.grid(True)\n",
    "\n",
    "from matplotlib.lines import Line2D\n",
    "lines = [Line2D([0], [0], ls='-'),\n",
    "         Line2D([0], [0], ls='--')]\n",
    "plt.legend(lines, ['Keras', 'hls4ml'])\n",
    "plt.savefig('ROC.png')"
   ]
  },
  {
   "cell_type": "markdown",
   "metadata": {},
   "source": [
    "### Run Synthesis, read resources"
   ]
  },
  {
   "cell_type": "code",
   "execution_count": null,
   "metadata": {},
   "outputs": [],
   "source": [
    "hls_model.build()\n",
    "hls4ml.report.read_vivado_report('my-hls-test/')"
   ]
  },
  {
   "cell_type": "code",
   "execution_count": null,
   "metadata": {},
   "outputs": [],
   "source": []
  }
 ],
 "metadata": {
  "kernelspec": {
   "display_name": "Xilinx",
   "language": "python",
   "name": "xilinx"
  },
  "language_info": {
   "codemirror_mode": {
    "name": "ipython",
    "version": 3
   },
   "file_extension": ".py",
   "mimetype": "text/x-python",
   "name": "python",
   "nbconvert_exporter": "python",
   "pygments_lexer": "ipython3",
   "version": "3.7.6"
  }
 },
 "nbformat": 4,
 "nbformat_minor": 2
}

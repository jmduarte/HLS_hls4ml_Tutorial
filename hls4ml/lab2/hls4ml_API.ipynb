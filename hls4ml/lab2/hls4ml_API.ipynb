{
 "cells": [
  {
   "cell_type": "markdown",
   "metadata": {},
   "source": [
    "### Load libaries"
   ]
  },
  {
   "cell_type": "code",
   "execution_count": 1,
   "metadata": {},
   "outputs": [],
   "source": [
    "import tensorflow as tf\n",
    "import hls4ml\n",
    "import numpy as np\n",
    "import matplotlib.pyplot as plt\n",
    "from sklearn.datasets import fetch_openml\n",
    "from sklearn.model_selection import train_test_split\n",
    "from sklearn.preprocessing import LabelEncoder, StandardScaler\n",
    "import json\n",
    "%matplotlib inline"
   ]
  },
  {
   "cell_type": "markdown",
   "metadata": {},
   "source": [
    "### Load the data and transform"
   ]
  },
  {
   "cell_type": "code",
   "execution_count": 2,
   "metadata": {},
   "outputs": [],
   "source": [
    "data = fetch_openml('hls4ml_lhc_jets_hlf')\n",
    "X, y = data['data'], data['target']\n",
    "le = LabelEncoder()\n",
    "y = le.fit_transform(y)\n",
    "y = tf.keras.utils.to_categorical(y, 5)\n",
    "X_train_val, X_test, y_train_val, y_test = train_test_split(X, y, test_size=0.2, random_state=42)\n",
    "scaler = StandardScaler()\n",
    "X_train_val = scaler.fit_transform(X_train_val)\n",
    "X_test = scaler.transform(X_test)"
   ]
  },
  {
   "cell_type": "markdown",
   "metadata": {},
   "source": [
    "### Optional: train the model (note L1 regularization is good for keeping weights small/zero)"
   ]
  },
  {
   "cell_type": "code",
   "execution_count": null,
   "metadata": {},
   "outputs": [],
   "source": [
    "from tensorflow.keras.models import Model\n",
    "from tensorflow.keras.layers import Dense, Input\n",
    "from tensorflow.keras.regularizers import l1\n",
    "def three_layer_model(Inputs, nclasses, l1Reg=0, name='model_1'):\n",
    "    x = Dense(64, activation='relu', kernel_initializer='lecun_uniform', \n",
    "              name='fc1_relu', kernel_regularizer=l1(l1Reg))(Inputs)\n",
    "    x = Dense(32, activation='relu', kernel_initializer='lecun_uniform', \n",
    "              name='fc2_relu', kernel_regularizer=l1(l1Reg))(x)\n",
    "    x = Dense(32, activation='relu', kernel_initializer='lecun_uniform', \n",
    "              name='fc3_relu', kernel_regularizer=l1(l1Reg))(x)\n",
    "    predictions = Dense(nclasses, activation='softmax', kernel_initializer='lecun_uniform', \n",
    "                        name='output_softmax', kernel_regularizer=l1(l1Reg))(x)\n",
    "    model = Model(inputs=Inputs, outputs=predictions, name=name)\n",
    "    return model"
   ]
  },
  {
   "cell_type": "code",
   "execution_count": null,
   "metadata": {},
   "outputs": [],
   "source": [
    "keras_model = three_layer_model(Input(shape=X_train_val.shape[1:], name='input_1'), y_train_val.shape[1], l1Reg=0.001)\n",
    "keras_model.compile(optimizer='adam',loss='categorical_crossentropy', metrics=['acc'])\n",
    "keras_model.fit(X_train_val, y_train_val, \n",
    "                validation_split = 0.25, epochs = 20, \n",
    "                callbacks = [tf.keras.callbacks.EarlyStopping(monitor='val_loss', \n",
    "                                                              patience=5, \n",
    "                                                              restore_best_weights=True)])\n",
    "keras_model.save('keras_3layer.h5',save_format='h5', overwrite=True)"
   ]
  },
  {
   "cell_type": "markdown",
   "metadata": {},
   "source": [
    "### Load the model"
   ]
  },
  {
   "cell_type": "code",
   "execution_count": 3,
   "metadata": {},
   "outputs": [
    {
     "name": "stdout",
     "output_type": "stream",
     "text": [
      "Model: \"model_1\"\n",
      "_________________________________________________________________\n",
      "Layer (type)                 Output Shape              Param #   \n",
      "=================================================================\n",
      "input_1 (InputLayer)         [(None, 16)]              0         \n",
      "_________________________________________________________________\n",
      "fc1_relu (Dense)             (None, 64)                1088      \n",
      "_________________________________________________________________\n",
      "fc2_relu (Dense)             (None, 32)                2080      \n",
      "_________________________________________________________________\n",
      "fc3_relu (Dense)             (None, 32)                1056      \n",
      "_________________________________________________________________\n",
      "output_softmax (Dense)       (None, 5)                 165       \n",
      "=================================================================\n",
      "Total params: 4,389\n",
      "Trainable params: 4,389\n",
      "Non-trainable params: 0\n",
      "_________________________________________________________________\n"
     ]
    }
   ],
   "source": [
    "keras_model = tf.keras.models.load_model('keras_3layer.h5')\n",
    "keras_model.summary()\n",
    "y_keras = keras_model.predict(X_test)"
   ]
  },
  {
   "cell_type": "markdown",
   "metadata": {},
   "source": [
    "### Create the hls4ml model and run C Simulation to get expected, quantized output"
   ]
  },
  {
   "cell_type": "code",
   "execution_count": 9,
   "metadata": {},
   "outputs": [
    {
     "name": "stdout",
     "output_type": "stream",
     "text": [
      "Interpreting Model\n",
      "Topology:\n",
      "Layer name: input_1, layer type: InputLayer\n",
      "Layer name: fc1_relu, layer type: Dense\n",
      "  -> Activation (relu), layer name: fc1_relu\n",
      "Layer name: fc2_relu, layer type: Dense\n",
      "  -> Activation (relu), layer name: fc2_relu\n",
      "Layer name: fc3_relu, layer type: Dense\n",
      "  -> Activation (relu), layer name: fc3_relu\n",
      "Layer name: output_softmax, layer type: Dense\n",
      "  -> Activation (softmax), layer name: output_softmax\n",
      "Interpreting Model\n",
      "Topology:\n",
      "Layer name: input_1, layer type: InputLayer, current shape: [[None, 16]]\n",
      "Layer name: fc1_relu, layer type: Dense, current shape: [[None, 16]]\n",
      "Layer name: fc2_relu, layer type: Dense, current shape: [[None, 64]]\n",
      "Layer name: fc3_relu, layer type: Dense, current shape: [[None, 32]]\n",
      "Layer name: output_softmax, layer type: Dense, current shape: [[None, 32]]\n",
      "Creating HLS model\n",
      "Writing HLS project\n",
      "Done\n"
     ]
    }
   ],
   "source": [
    "hls_cfg = hls4ml.utils.config_from_keras_model(keras_model, granularity='name')\n",
    "hls_model = hls4ml.converters.convert_from_keras_model(keras_model, output_dir='my-hls-test', hls_config=hls_cfg)\n",
    "hls_model.compile()\n",
    "y_hls4ml = hls_model.predict(X_test)"
   ]
  },
  {
   "cell_type": "markdown",
   "metadata": {},
   "source": [
    "### Check difference between hls4ml and keras"
   ]
  },
  {
   "cell_type": "code",
   "execution_count": 5,
   "metadata": {},
   "outputs": [
    {
     "data": {
      "image/png": "[encoded data removed]",
      "text/plain": [
       "<Figure size 432x288 with 1 Axes>"
      ]
     },
     "metadata": {
      "needs_background": "light"
     },
     "output_type": "display_data"
    }
   ],
   "source": [
    "h, b = np.histogram((y_hls4ml - y_keras).flatten(), bins=np.linspace(-0.1,0.1,100))\n",
    "plt.bar(b[:-1], h, width=b[1]-b[0], color='b', alpha=0.5, label='diff')\n",
    "plt.legend()\n",
    "plt.xlabel('y_hls4ml - y_keras')\n",
    "plt.savefig('residual.png')"
   ]
  },
  {
   "cell_type": "markdown",
   "metadata": {},
   "source": [
    "### Make ROC curves"
   ]
  },
  {
   "cell_type": "code",
   "execution_count": 10,
   "metadata": {},
   "outputs": [
    {
     "data": {
      "image/png": "[encoded data removed]",
      "text/plain": [
       "<Figure size 432x288 with 1 Axes>"
      ]
     },
     "metadata": {
      "needs_background": "light"
     },
     "output_type": "display_data"
    }
   ],
   "source": [
    "from sklearn.metrics import roc_curve\n",
    "def roc(y_true, y, linestyle):\n",
    "    for i in range(y_true.shape[1]):\n",
    "        fpr, tpr, _ = roc_curve(y_true[:,i], y[:,i])\n",
    "        plt.plot(tpr, fpr, linestyle=linestyle)\n",
    "        \n",
    "roc(y_test, y_keras, '-')\n",
    "plt.gca().set_prop_cycle(None)\n",
    "roc(y_test, y_hls4ml, '--')\n",
    "plt.semilogy()\n",
    "plt.xlabel(\"Signal Efficiency\")\n",
    "plt.ylabel(\"Background Efficiency\")\n",
    "plt.ylim(0.001,1)\n",
    "plt.grid(True)\n",
    "\n",
    "from matplotlib.lines import Line2D\n",
    "lines = [Line2D([0], [0], ls='-'),\n",
    "         Line2D([0], [0], ls='--')]\n",
    "plt.legend(lines, ['Keras', 'hls4ml'])\n",
    "plt.savefig('ROC.png')"
   ]
  },
  {
   "cell_type": "markdown",
   "metadata": {},
   "source": [
    "### Run Synthesis, read resources"
   ]
  },
  {
   "cell_type": "code",
   "execution_count": 11,
   "metadata": {},
   "outputs": [
    {
     "name": "stdout",
     "output_type": "stream",
     "text": [
      "Found 1 solution(s) in my-hls-test//myproject_prj.\n",
      "Reports for solution \"solution1\":\n",
      "\n",
      "C SIMULATION RESULT:\n",
      "INFO: [SIM 2] *************** CSIM start ***************\n",
      "INFO: [SIM 4] CSIM will launch GCC as the compiler.\n",
      "   Compiling ../../../../myproject_test.cpp in debug mode\n",
      "   Compiling ../../../../firmware/myproject.cpp in debug mode\n",
      "   Generating csim.exe\n",
      "INFO: Unable to open input/predictions file, using default input.\n",
      "0.121094 0.176758 0.657227 0.0126953 0.0322266 \n",
      "INFO: Saved inference results to file: tb_data/csim_results.log\n",
      "INFO: [SIM 1] CSim done with 0 errors.\n",
      "INFO: [SIM 3] *************** CSIM finish ***************\n",
      "\n",
      "SYNTHESIS REPORT:\n",
      "================================================================\n",
      "== Vivado HLS Report for 'myproject'\n",
      "================================================================\n",
      "* Date:           Fri Jul 10 08:14:16 2020\n",
      "\n",
      "* Version:        2019.2 (Build 2704478 on Wed Nov 06 22:10:23 MST 2019)\n",
      "* Project:        myproject_prj\n",
      "* Solution:       solution1\n",
      "* Product family: kintexu\n",
      "* Target device:  xcku115-flvb2104-2-i\n",
      "\n",
      "\n",
      "================================================================\n",
      "== Performance Estimates\n",
      "================================================================\n",
      "+ Timing: \n",
      "    * Summary: \n",
      "    +--------+---------+----------+------------+\n",
      "    |  Clock |  Target | Estimated| Uncertainty|\n",
      "    +--------+---------+----------+------------+\n",
      "    |ap_clk  | 5.00 ns | 4.257 ns |   0.62 ns  |\n",
      "    +--------+---------+----------+------------+\n",
      "\n",
      "+ Latency: \n",
      "    * Summary: \n",
      "    +---------+---------+----------+----------+-----+-----+----------+\n",
      "    |  Latency (cycles) |  Latency (absolute) |  Interval | Pipeline |\n",
      "    |   min   |   max   |    min   |    max   | min | max |   Type   |\n",
      "    +---------+---------+----------+----------+-----+-----+----------+\n",
      "    |       23|       23| 0.115 us | 0.115 us |    1|    1| function |\n",
      "    +---------+---------+----------+----------+-----+-----+----------+\n",
      "\n",
      "    + Detail: \n",
      "        * Instance: \n",
      "        +----------------------------------+-----------------------+---------+---------+-----------+-----------+-----+-----+----------+\n",
      "        |                                  |                       |  Latency (cycles) |   Latency (absolute)  |  Interval | Pipeline |\n",
      "        |             Instance             |         Module        |   min   |   max   |    min    |    max    | min | max |   Type   |\n",
      "        +----------------------------------+-----------------------+---------+---------+-----------+-----------+-----+-----+----------+\n",
      "        |grp_dense_latency_0_0_0_2_fu_215  |dense_latency_0_0_0_2  |        2|        2| 10.000 ns | 10.000 ns |    1|    1| function |\n",
      "        |grp_dense_latency_0_0_0_3_fu_283  |dense_latency_0_0_0_3  |        2|        2| 10.000 ns | 10.000 ns |    1|    1| function |\n",
      "        |grp_dense_latency_0_0_0_1_fu_289  |dense_latency_0_0_0_1  |        2|        2| 10.000 ns | 10.000 ns |    1|    1| function |\n",
      "        |grp_dense_latency_0_0_0_s_fu_325  |dense_latency_0_0_0_s  |        2|        2| 10.000 ns | 10.000 ns |    1|    1| function |\n",
      "        |call_ret1_relu_2_fu_361           |relu_2                 |        0|        0|    0 ns   |    0 ns   |    1|    1| function |\n",
      "        |call_ret3_relu_1_fu_429           |relu_1                 |        0|        0|    0 ns   |    0 ns   |    1|    1| function |\n",
      "        |call_ret5_relu_fu_465             |relu                   |        0|        0|    0 ns   |    0 ns   |    1|    1| function |\n",
      "        +----------------------------------+-----------------------+---------+---------+-----------+-----------+-----+-----+----------+\n",
      "\n",
      "        * Loop: \n",
      "        N/A\n",
      "\n",
      "\n",
      "\n",
      "================================================================\n",
      "== Utilization Estimates\n",
      "================================================================\n",
      "* Summary: \n",
      "+---------------------+---------+-------+---------+--------+-----+\n",
      "|         Name        | BRAM_18K| DSP48E|    FF   |   LUT  | URAM|\n",
      "+---------------------+---------+-------+---------+--------+-----+\n",
      "|DSP                  |        -|      5|        -|       -|    -|\n",
      "|Expression           |        -|      -|        0|      78|    -|\n",
      "|FIFO                 |        -|      -|        -|       -|    -|\n",
      "|Instance             |        -|    585|    26686|   50677|    -|\n",
      "|Memory               |        4|      -|        0|       0|    -|\n",
      "|Multiplexer          |        -|      -|        -|      36|    -|\n",
      "|Register             |        0|      -|     4611|      45|    -|\n",
      "+---------------------+---------+-------+---------+--------+-----+\n",
      "|Total                |        4|    590|    31297|   50836|    0|\n",
      "+---------------------+---------+-------+---------+--------+-----+\n",
      "|Available SLR        |     2160|   2760|   663360|  331680|    0|\n",
      "+---------------------+---------+-------+---------+--------+-----+\n",
      "|Utilization SLR (%)  |    ~0   |     21|        4|      15|  100|\n",
      "+---------------------+---------+-------+---------+--------+-----+\n",
      "|Available            |     4320|   5520|  1326720|  663360|    0|\n",
      "+---------------------+---------+-------+---------+--------+-----+\n",
      "|Utilization (%)      |    ~0   |     10|        2|       7|    0|\n",
      "+---------------------+---------+-------+---------+--------+-----+\n",
      "\n",
      "+ Detail: \n",
      "    * Instance: \n",
      "    +----------------------------------+-----------------------+---------+-------+-------+-------+-----+\n",
      "    |             Instance             |         Module        | BRAM_18K| DSP48E|   FF  |  LUT  | URAM|\n",
      "    +----------------------------------+-----------------------+---------+-------+-------+-------+-----+\n",
      "    |grp_dense_latency_0_0_0_1_fu_289  |dense_latency_0_0_0_1  |        0|    104|   5345|  10854|    0|\n",
      "    |grp_dense_latency_0_0_0_2_fu_215  |dense_latency_0_0_0_2  |        0|    202|  10773|  21186|    0|\n",
      "    |grp_dense_latency_0_0_0_3_fu_283  |dense_latency_0_0_0_3  |        0|    200|   7617|  12288|    0|\n",
      "    |grp_dense_latency_0_0_0_s_fu_325  |dense_latency_0_0_0_s  |        0|     79|   2951|   2765|    0|\n",
      "    |call_ret5_relu_fu_465             |relu                   |        0|      0|      0|    896|    0|\n",
      "    |call_ret3_relu_1_fu_429           |relu_1                 |        0|      0|      0|    896|    0|\n",
      "    |call_ret1_relu_2_fu_361           |relu_2                 |        0|      0|      0|   1792|    0|\n",
      "    +----------------------------------+-----------------------+---------+-------+-------+-------+-----+\n",
      "    |Total                             |                       |        0|    585|  26686|  50677|    0|\n",
      "    +----------------------------------+-----------------------+---------+-------+-------+-------+-----+\n",
      "\n"
     ]
    }
   ],
   "source": [
    "hls_model.build() # this takes a several minutes\n",
    "hls4ml.report.read_vivado_report('my-hls-test/')"
   ]
  },
  {
   "cell_type": "code",
   "execution_count": null,
   "metadata": {},
   "outputs": [],
   "source": []
  }
 ],
 "metadata": {
  "kernelspec": {
   "display_name": "Xilinx",
   "language": "python",
   "name": "xilinx"
  },
  "language_info": {
   "codemirror_mode": {
    "name": "ipython",
    "version": 3
   },
   "file_extension": ".py",
   "mimetype": "text/x-python",
   "name": "python",
   "nbconvert_exporter": "python",
   "pygments_lexer": "ipython3",
   "version": "3.7.6"
  }
 },
 "nbformat": 4,
 "nbformat_minor": 2
}
